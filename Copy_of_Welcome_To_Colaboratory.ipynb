class Learner:
  name = ''
  mob_no = ''
  email = ''

  def set_Details(self,n,m,e):
    self.name = n
    self.mob_no = m
    self.email = e

  def get_Details(self):
    print('name :',self.name,'mob_no',self.mob_no,'email :',self.email)  
rohit = Learner()    
rohit.set_Details('rohit','9112432252','rohit@gmail.com') 
rohit.get_Details() 
